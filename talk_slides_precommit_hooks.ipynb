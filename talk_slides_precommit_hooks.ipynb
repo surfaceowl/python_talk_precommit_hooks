{
 "cells": [
  {
   "cell_type": "code",
   "execution_count": 1,
   "id": "21a485fc",
   "metadata": {
    "slideshow": {
     "slide_type": "skip"
    }
   },
   "outputs": [
    {
     "data": {
      "text/html": [
       "<style>.container { width:90% !important; }</style>"
      ],
      "text/plain": [
       "<IPython.core.display.HTML object>"
      ]
     },
     "metadata": {},
     "output_type": "display_data"
    }
   ],
   "source": [
    "# notebook formatting\n",
    "from IPython.display import display, HTML\n",
    "\n",
    "display(HTML(\"<style>.container { width:90% !important; }</style>\"))"
   ]
  },
  {
   "cell_type": "markdown",
   "id": "cc2abbc5",
   "metadata": {
    "slideshow": {
     "slide_type": "slide"
    }
   },
   "source": [
    "### Git pre-commit hooks\n",
    "\n",
    "\n",
    "How to use them and why they're awesome!"
   ]
  },
  {
   "cell_type": "markdown",
   "id": "46053ddb",
   "metadata": {
    "slideshow": {
     "slide_type": "slide"
    }
   },
   "source": [
    "### About Me\n",
    "\n",
    "\n",
    "Chris Brousseau\n",
    "Founder / Data Scientist / Loves Python\n",
    "SurfaceOwl.com\n",
    "\n",
    "Fun Fact - once brought my team to climb Mt. Fuji"
   ]
  },
  {
   "cell_type": "markdown",
   "id": "07877e87",
   "metadata": {
    "slideshow": {
     "slide_type": "slide"
    }
   },
   "source": [
    "### What are git hooks?\n",
    "\n",
    "-- scripts Git executes before or after events<br>\n",
    "-- location:  ~./.git/hooks<br><br>\n",
    "-- there are many kinds of hooks<br>\n",
    "-- today we're focusing on `pre-commit` hooks<br><br>\n",
    "-- `pre-commit` hooks are high value, self-contained and easy to manage<br>\n"
   ]
  },
  {
   "cell_type": "markdown",
   "id": "a76e515f",
   "metadata": {
    "slideshow": {
     "slide_type": "slide"
    }
   },
   "source": [
    "### Why should I care?\n",
    "\n",
    "-- increase your productivity <br>\n",
    "-- increase confidence in quality<br>\n",
    "-- decrease minor/distracting issues <br><br>\n",
    "\n",
    "-- automate quality checks - run every time<br>\n",
    "-- keeps common issues small / bite-sized<br>\n",
    "-- helpful for refactoring / cleanup --> you control issue depth via config.<br>"
   ]
  },
  {
   "cell_type": "markdown",
   "id": "48168b98",
   "metadata": {
    "slideshow": {
     "slide_type": "slide"
    }
   },
   "source": [
    "### I'm sold!  How do I start?\n",
    "\n",
    "1- install pre-commit.  run `pip install pre-commit` (thank you Yelp! / multi-language)<br>\n",
    "2- create pre-commit config in project root - run `.pre-commit-config.yaml` from terminal<br>\n",
    "pre-commit sample-config<br>\n",
    "3- set up the git hook scripts. run `pre-commit install` from terminal to (`git pre-commit` will now run every time!)<br>\n",
    "-- to update pre-commit hooks, run `pre-commit autoupdate` manually<br>\n",
    "<br>\n",
    "-- run against all files to get started run: `pre-commit run --all-files` from terminal<br><br>\n",
    "\n",
    "-- important!  pre-commit stops the commit if any check fails<br>\n",
    "-- if all checks pass, push or continue on next piece of work<br>\n",
    "-- if any checks fail:<br>\n",
    "--- 1) for hooks that make updates (e.g., remove-trailing-whitespace), just commit again<br>\n",
    "--- 2) for other problems (e.g., pylint errors), go make manual update in IDE, then commit again<br>"
   ]
  },
  {
   "cell_type": "markdown",
   "id": "6be53d97",
   "metadata": {
    "slideshow": {
     "slide_type": "slide"
    }
   },
   "source": [
    "### Example - terminal edut file01...\n",
    "-- show git history<br>\n",
    "-- edit file leaving trailing whitespace<br>\n",
    "-- try to commit<br>\n",
    "-- show result<br>\n",
    "-- recommit<br>\n",
    "-- show git history<br>"
   ]
  },
  {
   "cell_type": "markdown",
   "id": "0ff03f49",
   "metadata": {
    "slideshow": {
     "slide_type": "slide"
    }
   },
   "source": [
    "### Use with other tools<br>\n",
    "-black<br>\n",
    "-pylint<br>\n",
    "-isort<br><br>\n",
    "-mypy<br>\n",
    "-docker<br>\n",
    "-commitzen<br>\n",
    "<br><br>\n",
    "<a href=\"https://pre-commit.com/hooks.html\" target=\"_blank\">check out: https://pre-commit.com/hooks.html</a><br>"
   ]
  },
  {
   "cell_type": "markdown",
   "id": "a4d56e2f",
   "metadata": {
    "slideshow": {
     "slide_type": "slide"
    }
   },
   "source": [
    "# black formatting -- switch to terminal\n",
    "\n",
    "-- add file<br>\n",
    "-- commit<br>\n",
    "-- add black pre-commit hook<br>\n",
    "-- commit (which will fail) + fix + commit again (succeed)<br>"
   ]
  },
  {
   "cell_type": "code",
   "execution_count": 1,
   "id": "3ca64f23",
   "metadata": {
    "slideshow": {
     "slide_type": "slide"
    }
   },
   "outputs": [
    {
     "name": "stdout",
     "output_type": "stream",
     "text": [
      "\u001b[1mAll done! ✨ 🍰 ✨\u001b[0m\r\n",
      "\u001b[34m2 files \u001b[0mleft unchanged.\r\n"
     ]
    }
   ],
   "source": [
    "# pylint - code quality\n",
    "\n",
    "# -- add to requirements & install\n",
    "# -- add new code\n",
    "# -- commit\n",
    "# -- add pylint pre-commit hook\n",
    "# -- commit + fix + commit again\n",
    "!python -m black ."
   ]
  },
  {
   "cell_type": "markdown",
   "id": "7578ba4d",
   "metadata": {
    "slideshow": {
     "slide_type": "slide"
    }
   },
   "source": [
    "### run manually without making a commit\n",
    "`./.git/hooks/pre-commit`"
   ]
  },
  {
   "cell_type": "markdown",
   "id": "fcd533c2",
   "metadata": {
    "slideshow": {
     "slide_type": "slide"
    }
   },
   "source": [
    "### Useful Resources\n",
    "\n",
    "\n",
    "https://pre-commit.com/ <br><br>\n",
    "https://pypi.org/project/pre-commit/   <br><br>\n",
    "https://pre-commit.com/hooks.html       <== supported hooks   <br><br>"
   ]
  }
 ],
 "metadata": {
  "celltoolbar": "Slideshow",
  "kernelspec": {
   "display_name": "Python 3 (ipykernel)",
   "language": "python",
   "name": "python3"
  },
  "language_info": {
   "codemirror_mode": {
    "name": "ipython",
    "version": 3
   },
   "file_extension": ".py",
   "mimetype": "text/x-python",
   "name": "python",
   "nbconvert_exporter": "python",
   "pygments_lexer": "ipython3",
   "version": "3.10.4"
  }
 },
 "nbformat": 4,
 "nbformat_minor": 5
}
