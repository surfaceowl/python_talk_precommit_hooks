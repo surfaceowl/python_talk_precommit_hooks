{
 "cells": [
  {
   "cell_type": "code",
   "execution_count": 1,
   "id": "21a485fc",
   "metadata": {
    "slideshow": {
     "slide_type": "skip"
    }
   },
   "outputs": [
    {
     "data": {
      "text/html": [
       "<style>.container { width:90% !important; }</style>"
      ],
      "text/plain": [
       "<IPython.core.display.HTML object>"
      ]
     },
     "metadata": {},
     "output_type": "display_data"
    }
   ],
   "source": [
    "# notebook formatting\n",
    "from IPython.display import display, HTML\n",
    "display(HTML(\"<style>.container { width:90% !important; }</style>\"))\n"
   ]
  },
  {
   "cell_type": "markdown",
   "id": "fcd533c2",
   "metadata": {
    "slideshow": {
     "slide_type": "slide"
    }
   },
   "source": [
    "### Useful Resources\n",
    "\n",
    "\n",
    "https://pre-commit.com/ <br><br>\n",
    "https://pypi.org/project/pre-commit/   <br><br>\n",
    "https://pre-commit.com/hooks.html       <== supported hooks   <br><br>"
   ]
  },
  {
   "cell_type": "markdown",
   "id": "cc2abbc5",
   "metadata": {
    "slideshow": {
     "slide_type": "slide"
    }
   },
   "source": [
    "### Git pre-commit hooks\n",
    "\n",
    "\n",
    "How to use them and why they're awesome!"
   ]
  },
  {
   "cell_type": "markdown",
   "id": "46053ddb",
   "metadata": {
    "slideshow": {
     "slide_type": "slide"
    }
   },
   "source": [
    "### About Me\n",
    "\n",
    "\n",
    "Chris Brousseau\n",
    "Founder / Data Scientist / Loves Python\n",
    "SurfaceOwl.com\n",
    "\n",
    "Fun Fact - once brought my team to climb Mt. Fuji"
   ]
  },
  {
   "cell_type": "markdown",
   "id": "07877e87",
   "metadata": {
    "slideshow": {
     "slide_type": "slide"
    }
   },
   "source": [
    "### What are git hooks?\n",
    "\n",
    "-- scripts Git executes before or after events\n",
    "-- there are many kinds of hooks\n",
    "-- today we're focusing on `pre-commit` hooks\n",
    "-- `pre-commit` hooks are high value, self-contained and easy to manage\n"
   ]
  },
  {
   "cell_type": "markdown",
   "id": "a76e515f",
   "metadata": {
    "slideshow": {
     "slide_type": "slide"
    }
   },
   "source": [
    "### Why should I care?\n",
    "\n",
    "-- increase your productivity\n",
    "-- increase confidence in quality\n",
    "-- decrease minor/distracting issues \n",
    "\n",
    "-- automate quality checks - run every time\n",
    "-- keeps common issues small / bite-sized\n",
    "-- helpful for refactoring / cleanup --> you control issue depth via config."
   ]
  },
  {
   "cell_type": "markdown",
   "id": "48168b98",
   "metadata": {
    "slideshow": {
     "slide_type": "slide"
    }
   },
   "source": [
    "### I'm sold!  How do I start?\n",
    "\n",
    "-- find a framework for managing pre-commit hooks (or do it manually)\n",
    "-- I like:  pre-commit\n",
    "\n",
    "-- pip install pre-commit\n",
    "-- create pre-commit configuration in project root `.pre-commit-config.yaml`\n",
    "pre-commit sample-config\n",
    "-- run pre-commit install to set up the git hook scripts  (`git pre-commit` will now run every time!)\n",
    "-- to update pre-commit hooks, run `pre-commit autoupdate` manually\n",
    "<br>\n",
    "-- run against all files to get started:  `pre-commit run --all-files`\n",
    "\n",
    "-- important!  pre-commit stops the commit if any check fails\n",
    "-- if all checks pass, push or continue on next piece of work\n",
    "-- if any checks fail:\n",
    "--- 1) for hooks that make updates (e.g., remove-trailing-whitespace), just commit again\n",
    "--- 2) for other problems (e.g., pylint errors), go make manual update in IDE, then commit again"
   ]
  },
  {
   "cell_type": "code",
   "execution_count": 2,
   "id": "cbf89082",
   "metadata": {
    "slideshow": {
     "slide_type": "slide"
    }
   },
   "outputs": [
    {
     "name": "stdout",
     "output_type": "stream",
     "text": [
      "requirements.txt  talk_slides_precommit_hooks.ipynb  venv\r\n"
     ]
    }
   ],
   "source": [
    "### run manually without making a commit\n",
    "`./.git/hooks/pre-commit`"
   ]
  },
  {
   "cell_type": "code",
   "execution_count": null,
   "id": "c156ca8c",
   "metadata": {
    "slideshow": {
     "slide_type": "slide"
    }
   },
   "outputs": [],
   "source": [
    "### Use with other tools\n",
    "- black\n",
    "- pylint\n",
    "- mypy\n",
    "- docker\n",
    "- comm"
   ]
  },
  {
   "cell_type": "code",
   "execution_count": null,
   "id": "7a08741c",
   "metadata": {
    "slideshow": {
     "slide_type": "slide"
    }
   },
   "outputs": [],
   "source": [
    "# black formatting -- switch to terminal\n",
    "\n",
    "-- add file \n",
    "-- commit\n",
    "-- add black pre-commit hook\n",
    "-- commit (which will fail) + fix + commit again (succeed)"
   ]
  },
  {
   "cell_type": "code",
   "execution_count": null,
   "id": "3ca64f23",
   "metadata": {
    "slideshow": {
     "slide_type": "slide"
    }
   },
   "outputs": [],
   "source": [
    "# pylint - code quality\n",
    "\n",
    "-- add to requirements & install\n",
    "-- add new code\n",
    "-- commit\n",
    "-- add pylint pre-commit hook\n",
    "-- commit + fix + commit again\n"
   ]
  }
 ],
 "metadata": {
  "celltoolbar": "Slideshow",
  "kernelspec": {
   "display_name": "Python 3 (ipykernel)",
   "language": "python",
   "name": "python3"
  },
  "language_info": {
   "codemirror_mode": {
    "name": "ipython",
    "version": 3
   },
   "file_extension": ".py",
   "mimetype": "text/x-python",
   "name": "python",
   "nbconvert_exporter": "python",
   "pygments_lexer": "ipython3",
   "version": "3.10.4"
  }
 },
 "nbformat": 4,
 "nbformat_minor": 5
}
