{
 "cells": [
  {
   "cell_type": "code",
   "execution_count": 1,
   "id": "e707140e",
   "metadata": {
    "slideshow": {
     "slide_type": "skip"
    }
   },
   "outputs": [
    {
     "name": "stdout",
     "output_type": "stream",
     "text": [
      "Enabling: jupyter_nbextensions_configurator\r\n",
      "- Writing config: /home/chris/.jupyter\r\n",
      "    - Validating...\r\n",
      "      jupyter_nbextensions_configurator 0.4.1 \u001b[32mOK\u001b[0m\r\n",
      "Enabling notebook nbextension nbextensions_configurator/config_menu/main...\r\n",
      "Enabling tree nbextension nbextensions_configurator/tree_tab/main...\r\n"
     ]
    }
   ],
   "source": [
    "# enable jupyter extensions so users can configure RISE slideshow\n",
    "!jupyter nbextensions_configurator enable --user"
   ]
  },
  {
   "cell_type": "code",
   "execution_count": 2,
   "id": "21a485fc",
   "metadata": {
    "slideshow": {
     "slide_type": "skip"
    }
   },
   "outputs": [
    {
     "data": {
      "text/html": [
       "<style>.container { width:90% !important; }</style>"
      ],
      "text/plain": [
       "<IPython.core.display.HTML object>"
      ]
     },
     "metadata": {},
     "output_type": "display_data"
    }
   ],
   "source": [
    "# notebook formatting\n",
    "from IPython.display import display, HTML\n",
    "\n",
    "display(HTML(\"<style>.container { width:90% !important; }</style>\"))"
   ]
  },
  {
   "cell_type": "markdown",
   "id": "cc2abbc5",
   "metadata": {
    "slideshow": {
     "slide_type": "slide"
    }
   },
   "source": [
    "## Git pre-commit hooks\n",
    "\n",
    "\n",
    "Why they're awesome and how to use them!"
   ]
  },
  {
   "cell_type": "markdown",
   "id": "46053ddb",
   "metadata": {
    "slideshow": {
     "slide_type": "slide"
    }
   },
   "source": [
    "## About Me\n",
    "\n",
    "\n",
    "Chris Brousseau <br><br>\n",
    "Partner at <b>IBM Consulting</b> & Founder of <b>SurfaceOwl</b><br>\n",
    "Attended first in-person PyCon this year @Salt Lake<br>\n",
    "\n",
    "<b>Fun Fact - </b>I once brought my team to climb Mt. Fuji"
   ]
  },
  {
   "cell_type": "markdown",
   "id": "cebe7d8f",
   "metadata": {
    "slideshow": {
     "slide_type": "slide"
    }
   },
   "source": [
    "## Agenda <br><br>\n",
    "<strong>\n",
    "-- What are git hooks? <br><br>\n",
    "-- Why should I care? <br><br>\n",
    "-- How do I get started? <br><br>\n",
    "-- Examples <br><br>\n",
    "-- Some Resources <br><br>\n",
    "    </strong>"
   ]
  },
  {
   "cell_type": "markdown",
   "id": "07877e87",
   "metadata": {
    "slideshow": {
     "slide_type": "slide"
    }
   },
   "source": [
    "## What are git hooks?\n",
    "\n",
    "-- scripts that run before or after Git events<br>\n",
    "-- location:  ~./.git/hooks<br>\n",
    "\n",
    "-- there are many kinds of hooks<br>\n",
    "-- you can write your own from scratch, or...\n",
    "-- today we're focusing on <b>`pre-commit` hooks</b> <br>\n",
    "...and the <b>pre-commit library from Anthony Sottile </b>(multi-language)<br><br>\n",
    "\n",
    "[https://pre-commit.com/](https://pre-commit.com/)"
   ]
  },
  {
   "cell_type": "markdown",
   "id": "7bb32685",
   "metadata": {
    "slideshow": {
     "slide_type": "slide"
    }
   },
   "source": [
    "# Why should I care?\n",
    "<br>\n",
    "-- `pre-commit` hooks can be very helpful<br>\n",
    "\n",
    "-- catch mistakes <strong>before committed into git </strong><br>\n",
    "\n",
    "-- keep your repo tidy<br>\n"
   ]
  },
  {
   "cell_type": "markdown",
   "id": "a76e515f",
   "metadata": {
    "slideshow": {
     "slide_type": "slide"
    }
   },
   "source": [
    "## Why should I care - really?\n",
    "\n",
    "-- automate quality checks - run every time<br>\n",
    "-- increase code quality <br>\n",
    "-- increase confidence<br>\n",
    "-- increase productivity<br>\n",
    "\n",
    "-- keeps issues bite-sized<br>\n",
    "-- eliminate distractions from reviews<br>\n",
    "\n",
    "-- helpful for refactoring / cleanup --> you control issue depth via config.<br>"
   ]
  },
  {
   "cell_type": "markdown",
   "id": "2f12b158",
   "metadata": {
    "slideshow": {
     "slide_type": "slide"
    }
   },
   "source": [
    "## How do pre-commit hooks work?\n",
    "-- setup pre-commit in your repo <br>\n",
    "-- code <br>\n",
    "-- make a commit <br>\n",
    "-- pre-commit scripts automatically run <br>\n"
   ]
  },
  {
   "cell_type": "markdown",
   "id": "60cdc558",
   "metadata": {
    "slideshow": {
     "slide_type": "slide"
    }
   },
   "source": [
    "## what happens?\n",
    "\n",
    "-- only changed files are inspected!<br>\n",
    "\n",
    "-- if any check fails: _pre-commit stops the commit_<br>\n",
    "-- if all checks pass: _git commit is made_ <br>\n",
    "\n",
    "-- when checks fail: <br>\n",
    "--- 1) for hooks that make updates (e.g., remove-trailing-whitespace), _just commit again_ <br>\n",
    "--- 2) for other problems (e.g., pylint errors), _fix the code and commit again_ <br>"
   ]
  },
  {
   "cell_type": "markdown",
   "id": "48168b98",
   "metadata": {
    "slideshow": {
     "slide_type": "slide"
    }
   },
   "source": [
    "## I'm sold!  How do I start?\n",
    "\n",
    "0- make sure you're in a git project dir; either clone or `git init`<br>\n",
    "1- install pre-commit:  run `pip install pre-commit`<br>\n",
    "2- create .pre-commit-config.yaml in project root<br>\n",
    "`pre-commit sample-config > .pre-commit-config.yaml`<br>\n",
    "_-or-_ manually create .pre-commit-config.yaml<br><br>\n",
    "3- set up the git hook scripts: run `pre-commit install` <br>\n",
    "`git pre-commit` will now run every time!<br><br>\n",
    "4 -(optional) run against all files to get started run: `pre-commit run --all-files`<br><br>\n",
    "\n"
   ]
  },
  {
   "cell_type": "raw",
   "id": "b7ef3239",
   "metadata": {
    "slideshow": {
     "slide_type": "slide"
    }
   },
   "source": [
    "default_language_version:\n",
    "  python: python3.10\n",
    "repos:\n",
    "-   repo: https://github.com/pre-commit/pre-commit-hooks\n",
    "    rev: v4.3.0\n",
    "    hooks:\n",
    "    -   id: trailing-whitespace\n",
    "    -   id: end-of-file-fixer\n",
    "    -   id: check-yaml\n",
    "    -   id: check-added-large-files\n",
    "    -   id: check-ast\n",
    "-   repo: https://github.com/psf/black\n",
    "    rev: 22.6.0\n",
    "    hooks:\n",
    "      - id: black\n",
    "-   repo: https://github.com/pre-commit/mirrors-mypy\n",
    "    rev: 'v0.961'  # Use the sha / tag you want to point at\n",
    "    hooks:\n",
    "    -   id: mypy"
   ]
  },
  {
   "cell_type": "markdown",
   "id": "6be53d97",
   "metadata": {
    "slideshow": {
     "slide_type": "slide"
    }
   },
   "source": [
    "## Example - terminal edit practice_precommit project...\n",
    "-- git init<br>\n",
    "-- install pre-commit\n",
    "-- edit file leaving a trail of errors<br>\n",
    "-- try to commit<br>\n",
    "-- show result<br>\n",
    "-- fix & recommit<br>\n",
    "-- show git history<br>"
   ]
  },
  {
   "cell_type": "markdown",
   "id": "f250162b",
   "metadata": {
    "slideshow": {
     "slide_type": "slide"
    }
   },
   "source": [
    "## Important Notes\n",
    "\n",
    "-- important!  _pre-commit stops the commit if any check fails_<br>\n",
    "\n",
    "-- if all checks pass, push or continue on next piece of work<br>\n"
   ]
  },
  {
   "cell_type": "markdown",
   "id": "0ff03f49",
   "metadata": {
    "slideshow": {
     "slide_type": "slide"
    }
   },
   "source": [
    "## Huge number of useful scripts ready to go...<br>\n",
    "\n",
    "-pylint<br>\n",
    "\n",
    "-isort<br><br>\n",
    "-mypy<br>\n",
    "-docker<br>\n",
    "-commitzen<br>\n",
    "- etc...<br>\n",
    "<br><br>\n",
    "<a href=\"https://pre-commit.com/hooks.html\" target=\"_blank\">check out: https://pre-commit.com/hooks.html</a><br>"
   ]
  },
  {
   "cell_type": "markdown",
   "id": "a4d56e2f",
   "metadata": {
    "slideshow": {
     "slide_type": "slide"
    }
   },
   "source": [
    "## black formatting -- switch to terminal\n",
    "\n",
    "-- add file<br>\n",
    "-- commit<br>\n",
    "-- add black pre-commit hook<br>\n",
    "-- commit (which will fail) + fix + commit again (succeed)<br>"
   ]
  },
  {
   "cell_type": "raw",
   "id": "015e3534",
   "metadata": {
    "slideshow": {
     "slide_type": "slide"
    }
   },
   "source": [
    "-   repo: https://github.com/psf/black\n",
    "    rev: 22.6.0\n",
    "    hooks:\n",
    "      - id: black"
   ]
  },
  {
   "cell_type": "code",
   "execution_count": 3,
   "id": "3ca64f23",
   "metadata": {
    "slideshow": {
     "slide_type": "slide"
    }
   },
   "outputs": [],
   "source": [
    "# pylint - code quality\n",
    "\n",
    "# -- add to requirements & install\n",
    "# -- add new code\n",
    "# -- commit\n",
    "# -- add pylint pre-commit hook\n",
    "# -- commit + fix + commit again\n"
   ]
  },
  {
   "cell_type": "raw",
   "id": "04a25fd7",
   "metadata": {
    "slideshow": {
     "slide_type": "slide"
    }
   },
   "source": [
    "# pylint reference:  https://pylint.pycqa.org/en/latest/user_guide/installation/pre-commit-integration.html\n",
    "# assume pylint installed\n",
    "# add below to .pre-commit.config.yaml\n",
    "\n",
    "-   repo: local\n",
    "    hooks:\n",
    "    - id: pylint\n",
    "      name: pylint\n",
    "      entry: pylint\n",
    "      language: system\n",
    "      types: [ python ]\n",
    "      args:\n",
    "      - --fail-under=9.95\n",
    "\n",
    "# add pylint detailed config under pyproject.toml, or pylint.ini"
   ]
  },
  {
   "cell_type": "raw",
   "id": "a8123d9f",
   "metadata": {
    "slideshow": {
     "slide_type": "slide"
    }
   },
   "source": [
    "# .pyproject.toml example\n",
    "\n",
    "[tool.black]\n",
    "line-length = 88\n",
    "target-version = ['py310']\n",
    "include = '\\.pyi?$'\n",
    "exclude = '''\n",
    "(\n",
    "  /(                  # exclude a few common directories in project root\n",
    "    | \\.git\n",
    "    | \\.mypy_cache\n",
    "    | \\.venv\n",
    "    | client\n",
    "    | server\n",
    "    | node_modules\n",
    "    | public\n",
    "    | tmp\n",
    "    | temp\n",
    "    | venv\n",
    "  )/\n",
    "  | Procfile         # also separately exclude a file named Procfile in project root\n",
    ")\n",
    "'''\n",
    "\n",
    "[tool.isort]\n",
    "py_version = 310\n",
    "profile = \"black\"\n",
    "color = \"True\"\n",
    "force-alphabetical-sort-within-sections = \"True\"\n",
    "force-single-line-imports = \"True\"\n",
    "jobs = -1\n",
    "line-length = 88\n",
    "skip = [\".gitignore\", \".dockerignore\"]\n",
    "treat-all-comment-as-code = \"True\"\n",
    "\n",
    "[tool.pylint.master]\n",
    "argument-naming-style = \"snake_case\"\n",
    "attr-naming-style = \"snake_case\"\n",
    "class-naming-style = \"PascalCase\"\n",
    "const-naming-style = \"UPPER_CASE\"\n",
    "confidence = \"CONTROL_FLOW\"\n",
    "docstring-min-length = 1\n",
    "enable = \"all\"\n",
    "exit-zero = \"true\"\n",
    "function-naming-style = \"snake_case\"\n",
    "good-names = [\"CRAZYACRONYM\", \"total_metric_x\", \"s3\", \"x\"]\n",
    "ignore-paths = [\".hypothesis\", \".pytest_cache\", \"client\", \"server\", \"tmp\", \"venv\"]\n",
    "jobs = 0\n",
    "load-plugins = []\n",
    "method-naming-style = \"snake_case\"\n",
    "module-naming-style = \"snake_case\"\n",
    "msg-template = \"ln {line:>5}  {msg_id}  {msg}  in obj:{obj}\"\n",
    "output-format = [\"colorized\"]\n",
    "recursive = \"true\"\n",
    "report = \"true\"\n",
    "score = \"true\"\n",
    "variable-naming-style = \"snake_case\"\n",
    "\n"
   ]
  },
  {
   "cell_type": "markdown",
   "id": "9eab6c45",
   "metadata": {
    "slideshow": {
     "slide_type": "slide"
    }
   },
   "source": [
    "\n",
    "\n",
    "## up next:  bite-sized chucks of pre-commit for fun and profit!\n",
    "\n"
   ]
  },
  {
   "cell_type": "markdown",
   "id": "b4bab037",
   "metadata": {
    "slideshow": {
     "slide_type": "slide"
    }
   },
   "source": [
    "## skip all pre-commit validations and make the commit \n",
    "\n",
    "-- sometimes you need to skip all the checks and get code into git <br>\n",
    "\n",
    "-- run your git command with the --no verify flag:<br>\n",
    "\n",
    "`git commit . -m 'here is my quick fix' --no-verify`\n"
   ]
  },
  {
   "cell_type": "markdown",
   "id": "5d06f1f2",
   "metadata": {
    "slideshow": {
     "slide_type": "slide"
    }
   },
   "source": [
    "## dryrun without making a commit\n",
    "<br>\n",
    "\n",
    "-- run `./.git/hooks/pre-commit` from terminal\n"
   ]
  },
  {
   "cell_type": "markdown",
   "id": "fdd75c07",
   "metadata": {
    "slideshow": {
     "slide_type": "slide"
    }
   },
   "source": [
    "## auto-enable pre-commit on your repo\n",
    "### ...so clones have pre-commit setup and running \n",
    "[https://pre-commit.com/#advanced](https://pre-commit.com/#advanced)\n",
    " \n",
    " run:<br>\n",
    " `git config --global init.templateDir ~/.git-template`<br>\n",
    " `pre-commit init-templatedir ~/.git-template`<br><br>\n",
    " \n",
    " tip:  _require opt-in, but prompt the user to set up pre-commit use a template hook_ see url above"
   ]
  },
  {
   "cell_type": "markdown",
   "id": "428a79b1",
   "metadata": {
    "slideshow": {
     "slide_type": "slide"
    }
   },
   "source": [
    "## update pre-commit hooks already installed\n",
    "<br>\n",
    "\n",
    "-- to update pre-commit library code and hook code, run `pre-commit autoupdate` manually<br>\n",
    "\n",
    "run `pre-commit autoupdate` from terminal"
   ]
  },
  {
   "cell_type": "markdown",
   "id": "fcd533c2",
   "metadata": {
    "slideshow": {
     "slide_type": "slide"
    }
   },
   "source": [
    "## Useful Resources\n",
    "\n",
    "https://pypi.org/project/pre-commit/   <br><br>\n",
    "\n",
    "https://pre-commit.com/ <br><br>\n",
    "\n",
    "https://pre-commit.com/hooks.html       <== supported hooks   <br><br>"
   ]
  },
  {
   "cell_type": "markdown",
   "id": "4f70222c",
   "metadata": {},
   "source": [
    "## In summary, today we:\n",
    "-- Learned what git hooks are & why we care <br>\n",
    "\n",
    "-- Learned how to get started? <br>\n",
    "\n",
    "-- Reviewed some examples <br>\n",
    "\n",
    "-- Discovered some resources for pre-commit <br>"
   ]
  },
  {
   "cell_type": "markdown",
   "id": "3caf5607",
   "metadata": {
    "slideshow": {
     "slide_type": "slide"
    }
   },
   "source": [
    "\n",
    "## Appendix\n"
   ]
  },
  {
   "cell_type": "raw",
   "id": "9dcbe11b",
   "metadata": {
    "slideshow": {
     "slide_type": "slide"
    }
   },
   "source": [
    "# copy paste\n",
    "\n",
    "# See https://pre-commit.com/hooks.html for more hooks\n",
    "default_language_version:\n",
    "  python: python3.10\n",
    "repos:\n",
    "-   repo: https://github.com/pre-commit/pre-commit-hooks\n",
    "    rev: v4.3.0\n",
    "    hooks:\n",
    "    -   id: trailing-whitespace\n",
    "    -   id: end-of-file-fixer\n",
    "    -   id: check-yaml\n",
    "    -   id: check-added-large-files\n",
    "    -   id: check-ast\n",
    "-   repo: https://github.com/psf/black\n",
    "    rev: 22.6.0\n",
    "    hooks:\n",
    "      - id: black\n",
    "-   repo: https://github.com/pre-commit/mirrors-mypy\n",
    "    rev: 'v0.961'  # Use the sha / tag you want to point at\n",
    "    hooks:\n",
    "    -   id: mypy"
   ]
  },
  {
   "cell_type": "markdown",
   "id": "d79b8d3f",
   "metadata": {
    "slideshow": {
     "slide_type": "skip"
    }
   },
   "source": [
    "## old versions\n",
    "pre-commit-hooks.\n",
    "updating v4.2.0 -> v4.3.0.\n",
    "\n",
    "black\n",
    "updating 22.3.0 -> 22.6.0.\n",
    "\n",
    "mypy\n",
    "commit/mirrors-mypy.\n",
    "updating  -> v0.961."
   ]
  }
 ],
 "metadata": {
  "celltoolbar": "Slideshow",
  "kernelspec": {
   "display_name": "Python 3 (ipykernel)",
   "language": "python",
   "name": "python3"
  },
  "language_info": {
   "codemirror_mode": {
    "name": "ipython",
    "version": 3
   },
   "file_extension": ".py",
   "mimetype": "text/x-python",
   "name": "python",
   "nbconvert_exporter": "python",
   "pygments_lexer": "ipython3",
   "version": "3.10.4"
  }
 },
 "nbformat": 4,
 "nbformat_minor": 5
}
