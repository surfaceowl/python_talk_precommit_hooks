{
 "cells": [
  {
   "cell_type": "code",
   "execution_count": 1,
   "id": "21a485fc",
   "metadata": {
    "slideshow": {
     "slide_type": "skip"
    }
   },
   "outputs": [
    {
     "data": {
      "text/html": [
       "<style>.container { width:90% !important; }</style>"
      ],
      "text/plain": [
       "<IPython.core.display.HTML object>"
      ]
     },
     "metadata": {},
     "output_type": "display_data"
    }
   ],
   "source": [
    "# notebook formatting\n",
    "from IPython.display import display, HTML\n",
    "\n",
    "display(HTML(\"<style>.container { width:90% !important; }</style>\"))"
   ]
  },
  {
   "cell_type": "markdown",
   "id": "cc2abbc5",
   "metadata": {
    "slideshow": {
     "slide_type": "slide"
    }
   },
   "source": [
    "### Git pre-commit hooks\n",
    "\n",
    "\n",
    "How to use them and why they're awesome!"
   ]
  },
  {
   "cell_type": "markdown",
   "id": "46053ddb",
   "metadata": {
    "slideshow": {
     "slide_type": "slide"
    }
   },
   "source": [
    "### About Me\n",
    "\n",
    "\n",
    "Chris Brousseau\n",
    "Founder / Data Scientist / Loves Python\n",
    "SurfaceOwl.com\n",
    "\n",
    "Fun Fact - once brought my team to climb Mt. Fuji"
   ]
  },
  {
   "cell_type": "markdown",
   "id": "07877e87",
   "metadata": {
    "slideshow": {
     "slide_type": "slide"
    }
   },
   "source": [
    "### What are git hooks?\n",
    "\n",
    "-- scripts Git executes before or after events<br>\n",
    "-- location:  ~./.git/hooks<br><br>\n",
    "-- there are many kinds of hooks<br>\n",
    "-- today we're focusing on `pre-commit` hooks<br><br>\n",
    "-- `pre-commit` hooks are high value, self-contained and easy to manage<br>\n"
   ]
  },
  {
   "cell_type": "markdown",
   "id": "a76e515f",
   "metadata": {
    "slideshow": {
     "slide_type": "slide"
    }
   },
   "source": [
    "### Why should I care?\n",
    "\n",
    "-- increase your productivity <br>\n",
    "-- increase confidence in quality<br>\n",
    "-- decrease minor/distracting issues <br><br>\n",
    "\n",
    "-- automate quality checks - run every time<br>\n",
    "-- keeps common issues small / bite-sized<br>\n",
    "-- helpful for refactoring / cleanup --> you control issue depth via config.<br>"
   ]
  },
  {
   "cell_type": "markdown",
   "id": "48168b98",
   "metadata": {
    "slideshow": {
     "slide_type": "slide"
    }
   },
   "source": [
    "### I'm sold!  How do I start?\n",
    "\n",
    "1- install pre-commit.  run `pip install pre-commit` (thank you Yelp! / multi-language)<br>\n",
    "2- create pre-commit config in project root - run `.pre-commit-config.yaml` from terminal<br>\n",
    "pre-commit sample-config<br>\n",
    "3- set up the git hook scripts. run `pre-commit install` from terminal to (`git pre-commit` will now run every time!)<br>\n",
    "-- to update pre-commit hooks, run `pre-commit autoupdate` manually<br>\n",
    "<br>\n",
    "-- run against all files to get started run: `pre-commit run --all-files` from terminal<br><br>\n",
    "\n",
    "-- important!  pre-commit stops the commit if any check fails<br>\n",
    "-- if all checks pass, push or continue on next piece of work<br>\n",
    "-- if any checks fail:<br>\n",
    "--- 1) for hooks that make updates (e.g., remove-trailing-whitespace), just commit again<br>\n",
    "--- 2) for other problems (e.g., pylint errors), go make manual update in IDE, then commit again<br>"
   ]
  },
  {
   "cell_type": "markdown",
   "id": "6be53d97",
   "metadata": {
    "slideshow": {
     "slide_type": "slide"
    }
   },
   "source": [
    "### Example - terminal edut file01...\n",
    "-- show git history<br>\n",
    "-- edit file leaving trailing whitespace<br>\n",
    "-- try to commit<br>\n",
    "-- show result<br>\n",
    "-- recommit<br>\n",
    "-- show git history<br>"
   ]
  },
  {
   "cell_type": "markdown",
   "id": "d79b8d3f",
   "metadata": {
    "slideshow": {
     "slide_type": "skip"
    }
   },
   "source": [
    "### old versions\n",
    "pre-commit-hooks.\n",
    "updating v4.2.0 -> v4.3.0.\\\n",
    "\n",
    "black\n",
    "updating 22.3.0 -> 22.6.0.\n",
    "\n",
    "mypy\n",
    "commit/mirrors-mypy.\n",
    "updating  -> v0.961."
   ]
  },
  {
   "cell_type": "markdown",
   "id": "0ff03f49",
   "metadata": {
    "slideshow": {
     "slide_type": "slide"
    }
   },
   "source": [
    "### Use with other tools<br>\n",
    "-black<br>\n",
    "-pylint<br>\n",
    "-isort<br><br>\n",
    "-mypy<br>\n",
    "-docker<br>\n",
    "-commitzen<br>\n",
    "<br><br>\n",
    "<a href=\"https://pre-commit.com/hooks.html\" target=\"_blank\">check out: https://pre-commit.com/hooks.html</a><br>"
   ]
  },
  {
   "cell_type": "markdown",
   "id": "a4d56e2f",
   "metadata": {
    "slideshow": {
     "slide_type": "slide"
    }
   },
   "source": [
    "# black formatting -- switch to terminal\n",
    "\n",
    "-- add file<br>\n",
    "-- commit<br>\n",
    "-- add black pre-commit hook<br>\n",
    "-- commit (which will fail) + fix + commit again (succeed)<br>"
   ]
  },
  {
   "cell_type": "code",
   "execution_count": 1,
   "id": "3ca64f23",
   "metadata": {
    "slideshow": {
     "slide_type": "slide"
    }
   },
   "outputs": [
    {
     "name": "stdout",
     "output_type": "stream",
     "text": [
      "\u001b[1mAll done! ✨ 🍰 ✨\u001b[0m\r\n",
      "\u001b[34m2 files \u001b[0mleft unchanged.\r\n"
     ]
    }
   ],
   "source": [
    "# pylint - code quality\n",
    "\n",
    "# -- add to requirements & install\n",
    "# -- add new code\n",
    "# -- commit\n",
    "# -- add pylint pre-commit hook\n",
    "# -- commit + fix + commit again\n",
    "!python -m black ."
   ]
  },
  {
   "cell_type": "raw",
   "id": "efddef58",
   "metadata": {
    "slideshow": {
     "slide_type": "slide"
    }
   },
   "source": [
    "# pylint reference:  https://pylint.pycqa.org/en/latest/user_guide/installation/pre-commit-integration.html\n",
    "# assume pylint installed\n",
    "# add below to .pre-commit.config.yaml\n",
    "\n",
    "- repo: local\n",
    "    hooks:\n",
    "      - id: pylint\n",
    "        name: pylint\n",
    "        entry: pylint\n",
    "        language: system\n",
    "        types: [ python ]\n",
    "        args:\n",
    "          - --fail-under=9.95\n",
    "\n",
    "# add pylint detailed config under pyproject.toml, or pylint.ini"
   ]
  },
  {
   "cell_type": "markdown",
   "id": "9eab6c45",
   "metadata": {
    "slideshow": {
     "slide_type": "slide"
    }
   },
   "source": [
    "\n",
    "\n",
    "# bite-sized chucks of pre-commit for fun and profit!\n",
    "\n"
   ]
  },
  {
   "cell_type": "code",
   "execution_count": null,
   "id": "5dbbd8ee",
   "metadata": {
    "slideshow": {
     "slide_type": "slide"
    }
   },
   "outputs": [],
   "source": [
    "### run manually without making a commit\n",
    "run `./.git/hooks/pre-commit` from terminal\n"
   ]
  },
  {
   "cell_type": "code",
   "execution_count": null,
   "id": "ff77bbca",
   "metadata": {
    "slideshow": {
     "slide_type": "slide"
    }
   },
   "outputs": [],
   "source": [
    "### auto-enable pre-commit on your repo\n",
    "#### so clones have pre-commit setup and running\n",
    "[https://pre-commit.com/#advanced](https://pre-commit.com/#advanced)\n",
    " \n",
    " git config --global init.templateDir ~/.git-template\n",
    " pre-commit init-templatedir ~/.git-template"
   ]
  },
  {
   "cell_type": "code",
   "execution_count": null,
   "id": "757c25e0",
   "metadata": {
    "slideshow": {
     "slide_type": "slide"
    }
   },
   "outputs": [],
   "source": [
    "### update pre-commit hooks already installed\n",
    "run `pre-commit autoupdate` from terminal"
   ]
  },
  {
   "cell_type": "markdown",
   "id": "fcd533c2",
   "metadata": {
    "slideshow": {
     "slide_type": "slide"
    }
   },
   "source": [
    "### Useful Resources\n",
    "\n",
    "https://pypi.org/project/pre-commit/   <br><br>\n",
    "\n",
    "https://pre-commit.com/ <br><br>\n",
    "\n",
    "https://pre-commit.com/hooks.html       <== supported hooks   <br><br>"
   ]
  },
  {
   "cell_type": "raw",
   "id": "9dcbe11b",
   "metadata": {
    "slideshow": {
     "slide_type": "slide"
    }
   },
   "source": [
    "# copy paste\n",
    "\n",
    "# See https://pre-commit.com/hooks.html for more hooks\n",
    "default_language_version:\n",
    "  python: python3.10\n",
    "repos:\n",
    "-   repo: https://github.com/pre-commit/pre-commit-hooks\n",
    "    rev: v4.3.0\n",
    "    hooks:\n",
    "    -   id: trailing-whitespace\n",
    "    -   id: end-of-file-fixer\n",
    "    -   id: check-yaml\n",
    "    -   id: check-added-large-files\n",
    "    -   id: check-ast\n",
    "-   repo: https://github.com/psf/black\n",
    "    rev: 22.6.0\n",
    "    hooks:\n",
    "      - id: black\n",
    "-   repo: https://github.com/pre-commit/mirrors-mypy\n",
    "    rev: 'v0.961'  # Use the sha / tag you want to point at\n",
    "    hooks:\n",
    "    -   id: mypy"
   ]
  },
  {
   "cell_type": "raw",
   "id": "a8123d9f",
   "metadata": {
    "slideshow": {
     "slide_type": "slide"
    }
   },
   "source": [
    "# .pyproject.toml example\n",
    "\n",
    "[tool.black]\n",
    "line-length = 88\n",
    "target-version = ['py310']\n",
    "include = '\\.pyi?$'\n",
    "exclude = '''\n",
    "(\n",
    "  /(                  # exclude a few common directories in project root\n",
    "    | \\.git\n",
    "    | \\.mypy_cache\n",
    "    | \\.venv\n",
    "    | client\n",
    "    | server\n",
    "    | node_modules\n",
    "    | public\n",
    "    | tmp\n",
    "    | temp\n",
    "    | venv\n",
    "  )/\n",
    "  | Procfile         # also separately exclude a file named Procfile in project root\n",
    ")\n",
    "'''\n",
    "\n",
    "[tool.isort]\n",
    "py_version = 310\n",
    "profile = \"black\"\n",
    "color = \"True\"\n",
    "force-alphabetical-sort-within-sections = \"True\"\n",
    "force-single-line-imports = \"True\"\n",
    "jobs = -1\n",
    "line-length = 88\n",
    "skip = [\".gitignore\", \".dockerignore\"]\n",
    "treat-all-comment-as-code = \"True\"\n",
    "\n",
    "[tool.pylint.master]\n",
    "argument-naming-style = \"snake_case\"\n",
    "attr-naming-style = \"snake_case\"\n",
    "class-naming-style = \"PascalCase\"\n",
    "const-naming-style = \"UPPER_CASE\"\n",
    "confidence = \"CONTROL_FLOW\"\n",
    "docstring-min-length = 1\n",
    "enable = \"all\"\n",
    "exit-zero = \"true\"\n",
    "function-naming-style = \"snake_case\"\n",
    "good-names = [\"ROI\", \"total_FTE\", \"s3\", \"x\"]\n",
    "ignore-paths = [\".hypothesis\", \".pytest_cache\", \"client\", \"server\", \"tmp\", \"venv\"]\n",
    "jobs = 0\n",
    "load-plugins = []\n",
    "method-naming-style = \"snake_case\"\n",
    "module-naming-style = \"snake_case\"\n",
    "msg-template = \"ln {line:>5}  {msg_id}  {msg}  in obj:{obj}\"\n",
    "output-format = [\"colorized\"]\n",
    "recursive = \"true\"\n",
    "report = \"true\"\n",
    "score = \"true\"\n",
    "variable-naming-style = \"snake_case\"\n",
    "\n"
   ]
  },
  {
   "cell_type": "code",
   "execution_count": null,
   "id": "2425ec06",
   "metadata": {},
   "outputs": [],
   "source": []
  }
 ],
 "metadata": {
  "celltoolbar": "Slideshow",
  "kernelspec": {
   "display_name": "Python 3 (ipykernel)",
   "language": "python",
   "name": "python3"
  },
  "language_info": {
   "codemirror_mode": {
    "name": "ipython",
    "version": 3
   },
   "file_extension": ".py",
   "mimetype": "text/x-python",
   "name": "python",
   "nbconvert_exporter": "python",
   "pygments_lexer": "ipython3",
   "version": "3.10.4"
  }
 },
 "nbformat": 4,
 "nbformat_minor": 5
}
